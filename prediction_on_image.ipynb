import numpy as np
from keras.preprocessing import image
from keras.models import load_model

# Load the trained model
model = load_model('82accur.h5')  # Replace '82accur.h5' with the actual path to your trained model file

# Function to predict on a single image
def predict_image(image_path):
    img = image.load_img(image_path, target_size=(256, 256))
    img_array = image.img_to_array(img)
    img_array = np.expand_dims(img_array, axis=0)

    # Normalize the image
    img_array /= 255.

    # Make predictions
    prediction = model.predict(img_array)
    predicted_class = np.argmax(prediction)

    return predicted_class

# Path to the image you want to predict on
image_path = 'path_to_your_image.jpg'  # Replace 'path_to_your_image.jpg' with the actual path to your image file

# Predict on the image
predicted_class = predict_image(image_path)

# Print the predicted class
print("Predicted class:", predicted_class)
